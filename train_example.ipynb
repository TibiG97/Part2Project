{
 "cells": [
  {
   "cell_type": "markdown",
   "metadata": {},
   "source": [
    "# A simple training example on mutag"
   ]
  },
  {
   "cell_type": "code",
   "execution_count": 1,
   "metadata": {},
   "outputs": [
    {
     "name": "stderr",
     "output_type": "stream",
     "text": [
      "Using TensorFlow backend.\n"
     ]
    }
   ],
   "source": [
    "from data_loader import load_local_data\n",
    "import networkx as nx\n",
    "from pscn import PSCN\n",
    "from sklearn.model_selection import train_test_split\n",
    "import numpy as np"
   ]
  },
  {
   "cell_type": "code",
   "execution_count": 2,
   "metadata": {},
   "outputs": [],
   "source": [
    "mutag_dataset=load_local_data('./data','mutag')\n",
    "X,y=zip(*mutag_dataset)"
   ]
  },
  {
   "cell_type": "markdown",
   "metadata": {},
   "source": [
    "X is a list of Graph objects and y the list of the classes"
   ]
  },
  {
   "cell_type": "code",
   "execution_count": 12,
   "metadata": {},
   "outputs": [],
   "source": [
    "pscn=PSCN(w=18,k=10,one_hot=7,epochs=10,batch_size=32,verbose=2) #see receptive_field_maker_example for more details"
   ]
  },
  {
   "cell_type": "code",
   "execution_count": 13,
   "metadata": {},
   "outputs": [],
   "source": [
    "X_train, X_test, y_train, y_test=train_test_split(X,y,test_size=0.33, random_state=42)"
   ]
  },
  {
   "cell_type": "code",
   "execution_count": 14,
   "metadata": {
    "scrolled": false
   },
   "outputs": [
    {
     "name": "stdout",
     "output_type": "stream",
     "text": [
      "Time preprocess data in s 6.142948865890503\n",
      "Epoch 1/10\n",
      " - 0s - loss: 0.6594 - acc: 0.6320\n",
      "Epoch 2/10\n",
      " - 0s - loss: 0.5540 - acc: 0.6960\n",
      "Epoch 3/10\n",
      " - 0s - loss: 0.5032 - acc: 0.7440\n",
      "Epoch 4/10\n",
      " - 0s - loss: 0.4959 - acc: 0.7760\n",
      "Epoch 5/10\n",
      " - 0s - loss: 0.4488 - acc: 0.7920\n",
      "Epoch 6/10\n",
      " - 0s - loss: 0.4241 - acc: 0.8080\n",
      "Epoch 7/10\n",
      " - 0s - loss: 0.4114 - acc: 0.8160\n",
      "Epoch 8/10\n",
      " - 0s - loss: 0.3856 - acc: 0.8240\n",
      "Epoch 9/10\n",
      " - 0s - loss: 0.4043 - acc: 0.7920\n",
      "Epoch 10/10\n",
      " - 0s - loss: 0.3984 - acc: 0.8160\n",
      "Time fit data in s 0.7836716175079346\n"
     ]
    }
   ],
   "source": [
    "pscn.fit(X_train,y_train)"
   ]
  },
  {
   "cell_type": "code",
   "execution_count": 15,
   "metadata": {},
   "outputs": [
    {
     "name": "stdout",
     "output_type": "stream",
     "text": [
      "Time preprocess data in s 3.2222747802734375\n"
     ]
    }
   ],
   "source": [
    "preds=pscn.predict(X_test)"
   ]
  },
  {
   "cell_type": "code",
   "execution_count": 16,
   "metadata": {},
   "outputs": [
    {
     "data": {
      "text/plain": [
       "0.873015873015873"
      ]
     },
     "execution_count": 16,
     "metadata": {},
     "output_type": "execute_result"
    }
   ],
   "source": [
    "np.sum(preds.ravel()==y_test)/len(y_test)"
   ]
  }
 ],
 "metadata": {
  "anaconda-cloud": {},
  "kernelspec": {
   "display_name": "Python 3",
   "language": "python",
   "name": "python3"
  },
  "language_info": {
   "codemirror_mode": {
    "name": "ipython",
    "version": 3
   },
   "file_extension": ".py",
   "mimetype": "text/x-python",
   "name": "python",
   "nbconvert_exporter": "python",
   "pygments_lexer": "ipython3",
   "version": "3.5.2"
  }
 },
 "nbformat": 4,
 "nbformat_minor": 1
}
